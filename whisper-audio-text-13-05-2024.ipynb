{
 "cells": [
  {
   "cell_type": "code",
   "execution_count": 1,
   "id": "850adb32",
   "metadata": {},
   "outputs": [],
   "source": [
    "import wave\n",
    "import sys\n",
    "import pyaudio"
   ]
  },
  {
   "cell_type": "code",
   "execution_count": 13,
   "id": "a76e8cfa",
   "metadata": {},
   "outputs": [],
   "source": [
    "import openai"
   ]
  },
  {
   "cell_type": "code",
   "execution_count": 14,
   "id": "3d62e29d",
   "metadata": {},
   "outputs": [],
   "source": [
    "API_KEY = open(\"api_key.txt\", \"r\").read()"
   ]
  },
  {
   "cell_type": "code",
   "execution_count": 15,
   "id": "9875ddc4",
   "metadata": {},
   "outputs": [],
   "source": [
    "openai.api_key = API_KEY"
   ]
  },
  {
   "cell_type": "code",
   "execution_count": 18,
   "id": "9b78cf6b",
   "metadata": {},
   "outputs": [],
   "source": [
    "CHUNK = 1024\n",
    "FORMAT = pyaudio.paInt16\n",
    "CHANNELS = 1 if sys.platform == \"darwin\" else 2\n",
    "RATE=44100"
   ]
  },
  {
   "cell_type": "code",
   "execution_count": 21,
   "id": "16396b73",
   "metadata": {},
   "outputs": [],
   "source": [
    "def record_audio(seconds: int):\n",
    "    output_path = \"output.wav\"\n",
    "    with wave.open(output_path, \"wb\") as wf:\n",
    "        p = pyaudio.PyAudio()\n",
    "        wf.setnchannels(CHANNELS)\n",
    "        wf.setsampwidth(p.get_sample_size(FORMAT))\n",
    "        wf.setframerate(RATE)\n",
    "        \n",
    "        stream = p.open(format = FORMAT, channels = CHANNELS, rate = RATE, input=True)\n",
    "        \n",
    "        print(\"recording...\")\n",
    "        for index in range(0,RATE//CHUNK*seconds):\n",
    "            if index % (RATE // CHUNK) == 0:\n",
    "                print(f\"{index//(RATE//CHUNK)})/{seconds}s\")\n",
    "            wf.writeframes(stream.read(CHUNK))\n",
    "        print(\"Done\")\n",
    "        \n",
    "        stream.close()\n",
    "        p.terminate()\n",
    "    print(f\"File saved at {output_path}\")\n",
    "    return output_path"
   ]
  },
  {
   "cell_type": "code",
   "execution_count": 26,
   "id": "936a22fb",
   "metadata": {},
   "outputs": [
    {
     "name": "stdout",
     "output_type": "stream",
     "text": [
      "recording...\n",
      "0)/20s\n",
      "1)/20s\n",
      "2)/20s\n",
      "3)/20s\n",
      "4)/20s\n",
      "5)/20s\n",
      "6)/20s\n",
      "7)/20s\n",
      "8)/20s\n",
      "9)/20s\n",
      "10)/20s\n",
      "11)/20s\n",
      "12)/20s\n",
      "13)/20s\n",
      "14)/20s\n",
      "15)/20s\n",
      "16)/20s\n",
      "17)/20s\n",
      "18)/20s\n",
      "19)/20s\n",
      "Done\n",
      "File saved at output.wav\n"
     ]
    },
    {
     "data": {
      "text/plain": [
       "'output.wav'"
      ]
     },
     "execution_count": 26,
     "metadata": {},
     "output_type": "execute_result"
    }
   ],
   "source": [
    "record_audio(20)"
   ]
  },
  {
   "cell_type": "code",
   "execution_count": 27,
   "id": "4b1eb1f2",
   "metadata": {},
   "outputs": [],
   "source": [
    "audio = open(\"output.wav\", \"rb\")"
   ]
  },
  {
   "cell_type": "code",
   "execution_count": 28,
   "id": "68537681",
   "metadata": {},
   "outputs": [],
   "source": [
    "resp = openai.Audio.transcribe(model = \"whisper-1\",file = audio)"
   ]
  },
  {
   "cell_type": "code",
   "execution_count": 29,
   "id": "05f8ebcb",
   "metadata": {},
   "outputs": [
    {
     "data": {
      "text/plain": [
       "<OpenAIObject at 0x21673120cc0> JSON: {\n",
       "  \"text\": \"Afforestation is the process of planting trees in barren lands to create forests. It has many benefits including carbon separation, soil erosion prevention, flooded landslide mitigation, wind barrier, wildlife shelter, employment, food products, and rural development. I think that's about it. Thank you so much.\"\n",
       "}"
      ]
     },
     "execution_count": 29,
     "metadata": {},
     "output_type": "execute_result"
    }
   ],
   "source": [
    "resp"
   ]
  },
  {
   "cell_type": "code",
   "execution_count": null,
   "id": "db8cf112",
   "metadata": {},
   "outputs": [],
   "source": []
  }
 ],
 "metadata": {
  "kernelspec": {
   "display_name": "Python 3 (ipykernel)",
   "language": "python",
   "name": "python3"
  },
  "language_info": {
   "codemirror_mode": {
    "name": "ipython",
    "version": 3
   },
   "file_extension": ".py",
   "mimetype": "text/x-python",
   "name": "python",
   "nbconvert_exporter": "python",
   "pygments_lexer": "ipython3",
   "version": "3.9.12"
  }
 },
 "nbformat": 4,
 "nbformat_minor": 5
}
